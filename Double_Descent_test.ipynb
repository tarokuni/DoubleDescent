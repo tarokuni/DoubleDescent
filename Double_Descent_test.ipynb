{
 "metadata": {
  "language_info": {
   "codemirror_mode": {
    "name": "ipython",
    "version": 3
   },
   "file_extension": ".py",
   "mimetype": "text/x-python",
   "name": "python",
   "nbconvert_exporter": "python",
   "pygments_lexer": "ipython3",
   "version": "3.9.1-final"
  },
  "orig_nbformat": 2,
  "kernelspec": {
   "name": "python3",
   "display_name": "Python 3.9.1 64-bit",
   "metadata": {
    "interpreter": {
     "hash": "aee8b7b246df8f9039afb4144a1f6fd8d2ca17a180786b69acc140d282b71a49"
    }
   }
  }
 },
 "nbformat": 4,
 "nbformat_minor": 2,
 "cells": [
  {
   "source": [
    "# Testing Double Descent\n",
    "\n",
    "References:\n",
    "\n",
    "Belkin, et al. (PNAS, 2019)\n",
    "\"Reconciling modern machine-learning practice and the classical bias–variance trade-off\""
   ],
   "cell_type": "markdown",
   "metadata": {}
  },
  {
   "cell_type": "code",
   "execution_count": null,
   "metadata": {},
   "outputs": [],
   "source": [
    "import torch\n",
    "import torch.optim as opt\n",
    "import torch.nn as nn\n",
    "import torch.nn.functional as F\n",
    "import torch.utils.data as data_utils\n",
    "from torchvision import datasets, transforms\n",
    "\n",
    "import matplotlib.pyplot as plt"
   ]
  },
  {
   "cell_type": "code",
   "execution_count": null,
   "metadata": {},
   "outputs": [],
   "source": [
    "# set layer_list to be a list of the number of nodes in a given layer\n",
    "\n",
    "class Net(nn.Module):\n",
    "\n",
    "    def __init__(self, layer_list):\n",
    "        super().__init__()\n",
    "        prev = 28 * 28 # MNIST dimension\n",
    "        self.llen = len(layer_list)\n",
    "        self.fc = [0 for i in range(self.llen)]\n",
    "        for i in range(self.llen):\n",
    "            fc_num = layer_list[i]\n",
    "            exec(f\"self.fc{i} = nn.Linear(prev, fc_num)\")\n",
    "            exec(f\"self.fc[i] = self.fc{i}\")\n",
    "            prev  = fc_num\n",
    "    \n",
    "        # ReLU\n",
    "        self.relu = nn.ReLU()\n",
    "\n",
    "        # last layer    \n",
    "        self.final_layer = nn.Linear(prev, 10)\n",
    "        self.log_softmax = nn.LogSoftmax(dim=-1)\n",
    "\n",
    "    def forward(self, x):\n",
    "        x = x.view((x.shape[0], -1))\n",
    "\n",
    "        x = self.fc0(x)\n",
    "        x = self.relu(x)\n",
    "        x = self.fc1(x)\n",
    "        x = self.relu(x)\n",
    "\n",
    "        # for i in range(self.llen):\n",
    "        #     x = self.fc[i](x) # Linear\n",
    "        #     x = self.relu(x) # ReLU\n",
    "        \n",
    "        x = self.final_layer(x)\n",
    "        output = self.log_softmax(x)\n",
    "        \n",
    "        return output"
   ]
  },
  {
   "cell_type": "code",
   "execution_count": null,
   "metadata": {},
   "outputs": [],
   "source": [
    "# testing nn\n",
    "\n",
    "layer_list = [1000,1000,1000]\n",
    "model = Net(layer_list)\n",
    "\n",
    "input_ = torch.rand(1,28,28)\n",
    "out = model(input_)\n",
    "\n",
    "print(f\"size: {out.shape}\")\n",
    "print(f\"max arg: {torch.argmax(out)}\")\n"
   ]
  },
  {
   "source": [
    "## Train Neural Network"
   ],
   "cell_type": "markdown",
   "metadata": {}
  },
  {
   "cell_type": "code",
   "execution_count": null,
   "metadata": {},
   "outputs": [],
   "source": [
    "# Set layers\n",
    "layer_list = [1000,1000,1000,1000]\n",
    "model = Net(layer_list)"
   ]
  },
  {
   "cell_type": "code",
   "execution_count": null,
   "metadata": {},
   "outputs": [],
   "source": [
    "# Import datasets\n",
    "\n",
    "# training set\n",
    "dataset_mnist_train = datasets.MNIST('./data', \n",
    "    train=True, \n",
    "    download=True, \n",
    "    transform=transforms.Compose([transforms.ToTensor(), \n",
    "        transforms.Normalize((0.1307,), (0.3081,))]) # MNIST parameters\n",
    ") \n",
    "\n",
    "# test set\n",
    "dataset_mnist_test = datasets.MNIST('./data', \n",
    "    train=False, \n",
    "    download=True, \n",
    "    transform=transforms.Compose([transforms.ToTensor(), \n",
    "        transforms.Normalize((0.1307,), (0.3081,))]) # MNIST parameters\n",
    ") \n",
    "\n",
    "\n",
    "train_loader = data_utils.DataLoader(dataset_mnist_train,\n",
    "    batch_size=128,\n",
    "    shuffle=True)\n",
    "\n",
    "test_loader = data_utils.DataLoader(dataset_mnist_test,\n",
    "    batch_size=128,\n",
    "    shuffle=False)"
   ]
  },
  {
   "cell_type": "code",
   "execution_count": null,
   "metadata": {},
   "outputs": [],
   "source": [
    "parameters_to_optimize = model.parameters()\n",
    "\n",
    "# stochastic gradient descent\n",
    "optimizer = opt.SGD(model.parameters(), lr=0.1, momentum=0.9)\n",
    "\n",
    "# log-likelihood loss\n",
    "loss_fn = nn.NLLLoss()"
   ]
  },
  {
   "cell_type": "code",
   "execution_count": null,
   "metadata": {},
   "outputs": [],
   "source": [
    "def train(model, loss_fn, device, train_loader, test_loader, optimizer):\n",
    "    model.train()\n",
    "\n",
    "    for batch_idx, (data, target) in enumerate(train_loader):\n",
    "        data, target = data.to(device), target.to(device)\n",
    "        optimizer.zero_grad()\n",
    "        output = model(data)\n",
    "        # print(torch.argmax(output, 1))\n",
    "        loss = loss_fn(output, target)\n",
    "        loss.backward()\n",
    "        optimizer.step()\n",
    "\n",
    "        if batch_idx % 10 == 0:\n",
    "            print(f'[{batch_idx * len(data)}/{len(train_loader.dataset)}]\\tLoss: {loss.item()}')\n",
    "            test(model, loss_fn, device, test_loader)\n",
    "\n",
    "def test(model, loss_fn, device, test_loader):\n",
    "    model.eval()\n",
    "    test_loss = 0\n",
    "    correct = 0\n",
    "    with torch.no_grad():\n",
    "        for data, target in test_loader:\n",
    "            data, target = data.to(device), target.to(device)\n",
    "            output = model(data)\n",
    "            test_loss += loss_fn(output, target).item()\n",
    "            pred = output.argmax(dim=1, keepdim=True)\n",
    "            correct += pred.eq(target.view_as(pred)).sum().item()\n",
    "\n",
    "    print(f'\\nTest set Accuracy: {correct}/{len(test_loader.dataset)} ({100.*correct/len(test_loader.dataset):.1f}%)\\n')\n"
   ]
  },
  {
   "cell_type": "code",
   "execution_count": null,
   "metadata": {},
   "outputs": [],
   "source": [
    "train(model, loss_fn, 'cpu', train_loader, test_loader, optimizer)"
   ]
  },
  {
   "cell_type": "code",
   "execution_count": null,
   "metadata": {},
   "outputs": [],
   "source": [
    "test(model, loss_fn, \"cpu\", test_loader)"
   ]
  },
  {
   "source": [
    "## Change parameters to see Double Descent\n",
    "\n",
    " Number of training data parameters: \n",
    " $60{,}000 \\times 28 \\times 28 = 47{,}040{,}000$\n",
    "\n",
    " -> We should see peak around that point\n",
    "  $5\\times10^{7}\\simeq 3000*3000*6$ \n",
    "\n",
    "  (Exact number for $6$ hidden layers is $893.8$ per layer)"
   ],
   "cell_type": "markdown",
   "metadata": {}
  },
  {
   "cell_type": "code",
   "execution_count": null,
   "metadata": {},
   "outputs": [],
   "source": [
    "# refine functions for multiple training\n",
    "\n",
    "def train(model, loss_fn, device, train_loader, test_loader, optimizer):\n",
    "    model.train()\n",
    "\n",
    "    for batch_idx, (data, target) in enumerate(train_loader):\n",
    "        data, target = data.to(device), target.to(device)\n",
    "        optimizer.zero_grad()\n",
    "        output = model(data)\n",
    "        # print(torch.argmax(output, 1))\n",
    "        loss = loss_fn(output, target)\n",
    "        loss.backward()\n",
    "        optimizer.step()\n",
    "\n",
    "def test(model, loss_fn, device, test_loader):\n",
    "    model.eval()\n",
    "    test_loss = 0\n",
    "    correct = 0\n",
    "    with torch.no_grad():\n",
    "        for data, target in test_loader:\n",
    "            data, target = data.to(device), target.to(device)\n",
    "            output = model(data)\n",
    "            test_loss += loss_fn(output, target).item()\n",
    "            pred = output.argmax(dim=1, keepdim=True)\n",
    "            correct += pred.eq(target.view_as(pred)).sum().item()\n",
    "\n",
    "    print(f'Test set Accuracy: {correct}/{len(test_loader.dataset)} ({100.*correct/len(test_loader.dataset):.1f}%)')\n",
    "\n",
    "    # Error rate -> use to draw graph\n",
    "    return 1 - correct/len(test_loader.dataset)"
   ]
  },
  {
   "cell_type": "code",
   "execution_count": null,
   "metadata": {},
   "outputs": [],
   "source": [
    "# initialize\n",
    "layer_list = np.array([25,25,25,25,25,25])\n",
    "results = []\n",
    "\n",
    "for i in range(500):\n",
    "    layer_list = np.array(layer_list + 10, dtype=int) \n",
    "    model = Net(layer_list)\n",
    "    parameters_to_optimize = model.parameters()\n",
    "    optimizer = opt.SGD(model.parameters(), lr=0.1, momentum=0.9)\n",
    "\n",
    "    train(model, loss_fn,'cpu',train_loader,test_loader,optimizer)\n",
    "    results.append(test(model, loss_fn, \"cpu\", test_loader))"
   ]
  },
  {
   "cell_type": "code",
   "execution_count": null,
   "metadata": {},
   "outputs": [],
   "source": [
    "layer_list = []\n",
    "init = 25\n",
    "for i in range(500):\n",
    "    init += 10 \n",
    "    layer_list.append(init)"
   ]
  },
  {
   "cell_type": "code",
   "execution_count": null,
   "metadata": {},
   "outputs": [],
   "source": [
    "import scipy\n",
    "from scipy.optimize import curve_fit\n",
    "\n",
    "def expo(x, a, b):\n",
    "    return a * scipy.exp(-x) +b"
   ]
  },
  {
   "cell_type": "code",
   "execution_count": null,
   "metadata": {},
   "outputs": [],
   "source": [
    "layer_list11 = layer_list1[:23]\n",
    "results11 = results1[:23]\n",
    "\n",
    "hidden_n = layer_list11 + layer_list2 + layer_list3 + layer_list4 + layer_list5 + layer_list6 + layer_list7 + layer_list8\n",
    "error_rate = results11 + results2 + results3 + results4 + results5 + results6 + results7 + results8\n",
    "\n",
    "hidden_n, error_rate = zip(*sorted(zip(hidden_n, error_rate)))"
   ]
  },
  {
   "source": [
    "param, _ = curve_fit(expo, layer_list7, results7)"
   ],
   "cell_type": "code",
   "metadata": {},
   "execution_count": null,
   "outputs": []
  },
  {
   "cell_type": "code",
   "execution_count": null,
   "metadata": {},
   "outputs": [],
   "source": [
    "fit_x = np.linspace(300,5000,100)\n",
    "fit_y = expo(fit_x, *param)"
   ]
  },
  {
   "cell_type": "code",
   "execution_count": null,
   "metadata": {},
   "outputs": [],
   "source": [
    "def param_n(hidden):\n",
    "    return 5 * hidden ** 2 + 794 * hidden"
   ]
  },
  {
   "cell_type": "code",
   "execution_count": null,
   "metadata": {},
   "outputs": [],
   "source": [
    "plt.plot(param_n(np.array(hidden_n)), error_rate)\n",
    "# plt.plot(fit_x, fit_y)\n",
    "# xlim(100, 120000000)\n",
    "plt.show()"
   ]
  },
  {
   "cell_type": "code",
   "execution_count": null,
   "metadata": {},
   "outputs": [],
   "source": [
    "import pickle\n",
    "\n",
    "file_name1 = \"layers.txt\"\n",
    "file_name2 = \"results.txt\"\n",
    "\n",
    "open_file = open(file_name1, \"wb\")\n",
    "pickle.dump(hidden_n, open_file)\n",
    "open_file.close()\n",
    "\n",
    "open_file = open(file_name2, \"wb\")\n",
    "pickle.dump(error_rate, open_file)\n",
    "open_file.close()\n"
   ]
  }
 ]
}